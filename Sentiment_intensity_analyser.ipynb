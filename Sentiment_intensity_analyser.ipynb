{
  "nbformat": 4,
  "nbformat_minor": 0,
  "metadata": {
    "colab": {
      "provenance": [],
      "authorship_tag": "ABX9TyNDzQqqq/wxqfgWWo2XA2kg",
      "include_colab_link": true
    },
    "kernelspec": {
      "name": "python3",
      "display_name": "Python 3"
    },
    "language_info": {
      "name": "python"
    }
  },
  "cells": [
    {
      "cell_type": "markdown",
      "metadata": {
        "id": "view-in-github",
        "colab_type": "text"
      },
      "source": [
        "<a href=\"https://colab.research.google.com/github/Sky1235669303022/Google-colab/blob/main/Sentiment_intensity_analyser.ipynb\" target=\"_parent\"><img src=\"https://colab.research.google.com/assets/colab-badge.svg\" alt=\"Open In Colab\"/></a>"
      ]
    },
    {
      "cell_type": "code",
      "execution_count": null,
      "metadata": {
        "id": "zqbPdeHXHik5"
      },
      "outputs": [],
      "source": [
        "!pip install vaderSentiment --quiet"
      ]
    },
    {
      "cell_type": "code",
      "source": [
        "#Name : Sudhanshu kukreti Erp ID:0231BCA041\n",
        "from vaderSentiment.vaderSentiment import SentimentIntensityAnalyzer\n",
        "analyzer= SentimentIntensityAnalyzer()\n",
        "comment= \"I love this product\"\n",
        "comment1=\"i hate this product\"\n",
        "result=analyzer.polarity_scores(comment)\n",
        "result1=analyzer.polarity_scores(comment1)\n",
        "print(result)\n",
        "print(\"second: \",result1)"
      ],
      "metadata": {
        "colab": {
          "base_uri": "https://localhost:8080/"
        },
        "id": "2N2o89KUH6Iu",
        "outputId": "e7dac4e2-3c14-4e14-8b96-6767242144f3"
      },
      "execution_count": null,
      "outputs": [
        {
          "output_type": "stream",
          "name": "stdout",
          "text": [
            "{'neg': 0.0, 'neu': 0.417, 'pos': 0.583, 'compound': 0.6369}\n",
            "second:  {'neg': 0.552, 'neu': 0.448, 'pos': 0.0, 'compound': -0.5719}\n"
          ]
        }
      ]
    },
    {
      "cell_type": "code",
      "source": [
        "def result(comment):\n",
        "  analyzer=SentimentIntensityAnalyzer()\n",
        "  result=analyzer.polarity_scores(comment)\n",
        "  print(\"result:\",result)\n",
        "while True:\n",
        "  comment= input(\"Enter a comment:\")\n",
        "  if comment=='stop':\n",
        "    break\n",
        "  result(comment)"
      ],
      "metadata": {
        "colab": {
          "base_uri": "https://localhost:8080/"
        },
        "id": "l2MLw77yMcTi",
        "outputId": "32f8d23e-52f8-41c9-cae2-b65834c13101"
      },
      "execution_count": null,
      "outputs": [
        {
          "name": "stdout",
          "output_type": "stream",
          "text": [
            "Enter a comment:I love this product\n",
            "result: {'neg': 0.0, 'neu': 0.417, 'pos': 0.583, 'compound': 0.6369}\n",
            "Enter a comment:stop\n"
          ]
        }
      ]
    },
    {
      "cell_type": "code",
      "source": [],
      "metadata": {
        "id": "ajNl0_mIP_b8"
      },
      "execution_count": null,
      "outputs": []
    }
  ]
}